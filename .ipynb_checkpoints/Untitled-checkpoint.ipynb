{
 "cells": [
  {
   "cell_type": "markdown",
   "id": "f3958744",
   "metadata": {},
   "source": [
    "# HIIIIIIIIIIIIIIIIIIIIIIIIIIIIIIIIIIIIIIIIIIIIIIIIIIIIIIIIIIIIIIIIIiiii "
   ]
  },
  {
   "cell_type": "code",
   "execution_count": 1,
   "id": "819914b4",
   "metadata": {},
   "outputs": [
    {
     "name": "stdout",
     "output_type": "stream",
     "text": [
      "hi , can you enter your name plz: rubi\n",
      "hi  rubi thank you for your waiting\n"
     ]
    }
   ],
   "source": [
    "r = input ('hi , can you enter your name plz: ')\n",
    "print ('hi ', r ,'thank you for your waiting')"
   ]
  },
  {
   "cell_type": "markdown",
   "id": "53691e00",
   "metadata": {},
   "source": [
    "* yenidan basliyalim \n",
    "# 2.4.2 basit uygulamalar "
   ]
  },
  {
   "cell_type": "markdown",
   "id": "4f85898d",
   "metadata": {},
   "source": [
    "* ortalama bulma"
   ]
  },
  {
   "cell_type": "code",
   "execution_count": 4,
   "id": "d9d63cdf",
   "metadata": {},
   "outputs": [
    {
     "name": "stdout",
     "output_type": "stream",
     "text": [
      "vize puani giriniz :50\n",
      "final puani giriniz: 80\n",
      "sizin ortalama puaniniz : 68.0\n"
     ]
    }
   ],
   "source": [
    "vize = int(input ('vize puani giriniz :'))\n",
    "final = int(input ('final puani giriniz: '))\n",
    "ortalama = vize * 0.4+final *0.6\n",
    "print ('sizin ortalama puaniniz :',ortalama)"
   ]
  },
  {
   "cell_type": "code",
   "execution_count": 2,
   "id": "af1883cd",
   "metadata": {},
   "outputs": [
    {
     "name": "stdout",
     "output_type": "stream",
     "text": [
      "a harfi:2\n",
      "b harfi:3\n",
      " b a dan buyuk\n"
     ]
    }
   ],
   "source": [
    "a = int (input('a harfi:'))\n",
    "b = int(input('b harfi:'))\n",
    "if a > b :\n",
    "    print('a b den buyuk')\n",
    "elif b>a :\n",
    "    print(' b a dan buyuk')\n",
    "else :\n",
    "    print('sayilar esit')"
   ]
  },
  {
   "cell_type": "markdown",
   "id": "1aa990ee",
   "metadata": {},
   "source": [
    "##  aritmatik operatorlar\n",
    "* '+' toplama\n",
    "* '-' cikarma\n",
    "* '*' carpma\n",
    "* '/' bolme\n",
    "* '**' kuvvet\n",
    "* ' % ' mod\n",
    "* '//' taban bolme "
   ]
  },
  {
   "cell_type": "markdown",
   "id": "b5629177",
   "metadata": {},
   "source": [
    " # bool\n",
    " ## 0 and 1"
   ]
  },
  {
   "cell_type": "markdown",
   "id": "1dba0bb3",
   "metadata": {},
   "source": [
    "* or \n",
    "* and\n",
    "* not    "
   ]
  },
  {
   "cell_type": "code",
   "execution_count": 4,
   "id": "ba963e63",
   "metadata": {},
   "outputs": [
    {
     "name": "stdout",
     "output_type": "stream",
     "text": [
      "kullanci adinizi giriniz: ruba\n",
      "sifrenizi giriniz:2002\n",
      "tsk ruba girebilirsiniz\n"
     ]
    }
   ],
   "source": [
    "kullanciAdi = input ('kullanci adinizi giriniz: ')\n",
    "sifre = input('sifrenizi giriniz:')\n",
    "if not kullanciAdi or not sifre :\n",
    "    print('lutfen kullanci adi / sifreyi bos birakmayin ')\n",
    "elif kullanciAdi == 'ruba' and sifre == '2002':\n",
    "    print('tsk',kullanciAdi,'girebilirsiniz')\n",
    "else :\n",
    "    print (' kullanci adi yada sifreyi yanlis girildinz , tekrar dene')"
   ]
  },
  {
   "cell_type": "code",
   "execution_count": 11,
   "id": "8050b94e",
   "metadata": {
    "scrolled": true
   },
   "outputs": [
    {
     "name": "stdout",
     "output_type": "stream",
     "text": [
      "True\n",
      "False\n",
      "True\n"
     ]
    }
   ],
   "source": [
    "name = 'ruba'\n",
    "print('u' in name)\n",
    "print('s' in name)\n",
    "print('r' in name)"
   ]
  },
  {
   "cell_type": "code",
   "execution_count": null,
   "id": "11714791",
   "metadata": {},
   "outputs": [],
   "source": []
  }
 ],
 "metadata": {
  "kernelspec": {
   "display_name": "Python 3 (ipykernel)",
   "language": "python",
   "name": "python3"
  },
  "language_info": {
   "codemirror_mode": {
    "name": "ipython",
    "version": 3
   },
   "file_extension": ".py",
   "mimetype": "text/x-python",
   "name": "python",
   "nbconvert_exporter": "python",
   "pygments_lexer": "ipython3",
   "version": "3.9.12"
  }
 },
 "nbformat": 4,
 "nbformat_minor": 5
}
