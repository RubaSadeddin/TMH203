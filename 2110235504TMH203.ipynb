{
 "cells": [
  {
   "cell_type": "markdown",
   "id": "d681b275",
   "metadata": {},
   "source": [
    "## RUBA SADEDDIN 2110235504\n",
    "## TMH203"
   ]
  },
  {
   "cell_type": "markdown",
   "id": "5f57f5ad",
   "metadata": {},
   "source": [
    "## 3.hafta"
   ]
  },
  {
   "cell_type": "markdown",
   "id": "cee7844b",
   "metadata": {},
   "source": [
    "# 1. soru :\n",
    "### ALAN VE ÇEVRE :\n",
    "* Alan ve çevre hesaplama kuralları: iki boyutlu geometrik şekillerin çevresi ve alanı ,aşağıdaki en önemli yasalar kullanarak bulunabilir :"
   ]
  },
  {
   "cell_type": "code",
   "execution_count": 1,
   "id": "5b4026bc",
   "metadata": {},
   "outputs": [
    {
     "name": "stdout",
     "output_type": "stream",
     "text": [
      "Bir şekil seçiniz. Üçgen içın 1, Kare ıçin 2 ,Dikdörtgen için 3 : 3\n",
      "Birinci kenarı giriniz: 4\n",
      "ikinci kenarı giriniz: 4\n",
      "Çevre:  16\n",
      "Alan:  16\n"
     ]
    }
   ],
   "source": [
    "sekil =input('Bir şekil seçiniz. Üçgen içın 1, Kare ıçin 2 ,Dikdörtgen için 3 : ')\n",
    "if sekil == '1' :\n",
    "    a = int(input('Birinci kenarı giriniz: '))\n",
    "    b = int(input('ikinci kenarı giriniz: '))\n",
    "    c = int(input('Üçüncü kenarı giriniz: '))\n",
    "    if  (a+b)/2 < c and c < a+b/2 :\n",
    "                print('3. kenar hata girildiniz.\\n')\n",
    "                cevre = a + b + c\n",
    "                u = cevre / 2\n",
    "                alan = u*(u-a) * (u-b) * (u-c)\n",
    "                alan = (alan)**1/2\n",
    "                print('Çevre:', cevre)\n",
    "                print('Alan: ', alan)\n",
    "elif sekil == '2' :\n",
    "    a = int(input('kare kenarları giriniz: '))\n",
    "    cevre = a*4\n",
    "    alan = a**2\n",
    "    print('Çevre: ', cevre)\n",
    "    print('Alan:', alan)\n",
    "elif sekil == '3' :\n",
    "        a = int(input('Birinci kenarı giriniz: '))\n",
    "        b = int(input('ikinci kenarı giriniz: '))\n",
    "        alan = a*b\n",
    "        cevre = (a+b)*2\n",
    "        print('Çevre: ', cevre)\n",
    "        print('Alan: ', alan)\n",
    "else:\n",
    "    print('Bir seçim yapmadiniz')"
   ]
  },
  {
   "cell_type": "markdown",
   "id": "73a8833e",
   "metadata": {},
   "source": [
    "# 2.soru :\n",
    "## Boyle Yasası (Boyle's law)\n",
    "* Boyle yasası (Boyle-Mariotte yasası) gaz yasalarından biridir. \n",
    "* Boyle yasasına göre, sıcaklıklar sabit tutulduğu sürece, ideal gazın hacmiyle basıncının çarpımı sabittir. \n",
    "* Matematiksel bir anlatımla: PV = k\n",
    "* P: basıç (paskal), V: hacim (m3), k: gaz sabiti; 8.3145 J/(mol K).\n",
    "* Belirli ölçüdeki herhangi bir gazın, sıcaklığın sabit tutulma şartıyla ilk ve son hacim-basınç ilişkisi aşağıdaki gibidir: \n",
    "* P1 V1 = P2 V2  ve   P2 = P1 V1 / V2"
   ]
  },
  {
   "cell_type": "code",
   "execution_count": 2,
   "id": "d9d2ce51",
   "metadata": {},
   "outputs": [
    {
     "name": "stdout",
     "output_type": "stream",
     "text": [
      "Bole yasısı için\n",
      "P1 : ilk basıç . \n",
      "P2 : son basıç\n",
      "V1 : ilk hacim\n",
      "V2 : son hacim\n",
      " P2 hesaplamak icin \n",
      " P1 giriniz :2\n",
      " V2 giriniz :2\n",
      " V1 giriniz :2\n",
      "P2 =  2.0\n"
     ]
    }
   ],
   "source": [
    "print ('''Bole yasısı için\n",
    "P1 : ilk basıç . \n",
    "P2 : son basıç\n",
    "V1 : ilk hacim\n",
    "V2 : son hacim''')\n",
    "print (' P2 hesaplamak icin ')\n",
    "P1=int(input(' P1 giriniz :'))\n",
    "V2=int(input(' V2 giriniz :'))\n",
    "V1=int(input(' V1 giriniz :'))\n",
    "P2 = (P1 * V1)/V2\n",
    "print('P2 = ',P2)"
   ]
  },
  {
   "cell_type": "markdown",
   "id": "cb5ba2e5",
   "metadata": {},
   "source": [
    "# 3.soru:\n",
    "## İkinci dereceden denklemler\n",
    "* İkinci dereceden denklemler, derecesi 2 olan polinomların oluşturduğu denklemlerdir.\n",
    "* mimaride kemer yapımında, uzaya gönderilen bazı araçların yörüngelerinin hesaplanmasında, uzaydaki bazı cisimlerin hareketlerinde, (örnek olarak kuyruklu yıldızlar) cam ve mercek yapımında kullanılır.\n",
    "* Bu denklemlerin genel formu : ((a)*(x**2))+(b*x)+c=0"
   ]
  },
  {
   "cell_type": "code",
   "execution_count": 3,
   "id": "b2f26b50",
   "metadata": {},
   "outputs": [
    {
     "name": "stdout",
     "output_type": "stream",
     "text": [
      "ikinciDerecedenDenklem ( a,b,c )\n",
      "a giriniz : 1\n",
      "b giriniz : 6\n",
      "c giriniz: -8\n",
      "x1= 6.0 ,x2=  -12.0 kokler farkli . \n"
     ]
    }
   ],
   "source": [
    "print('ikinciDerecedenDenklem ( a,b,c )')\n",
    "a = int(input('a giriniz : '))\n",
    "b = int(input('b giriniz : '))\n",
    "c = int(input('c giriniz: '))\n",
    "delta = b^2 - 4*a*c \n",
    "f = (b^2 - 4*a*c)**1/2\n",
    "k = 2*a\n",
    "x1 = (-b + f )/ k \n",
    "x2 = (-b - f)/ k  \n",
    "if delta == 0 : \n",
    "    x1=x2\n",
    "    print ('x1 = '+str(x1)+', x2 = '+str(x2)+' kokler esittir . ')\n",
    "elif delta >0 : \n",
    "    print ('x1= '+str(x1)+' ,x2=  '+str(x2)+' kokler farkli . ')\n",
    "elif delta <0 : \n",
    "    print ('kok yoktur.')"
   ]
  },
  {
   "cell_type": "code",
   "execution_count": null,
   "id": "e6d8de65",
   "metadata": {},
   "outputs": [],
   "source": []
  }
 ],
 "metadata": {
  "kernelspec": {
   "display_name": "Python 3 (ipykernel)",
   "language": "python",
   "name": "python3"
  },
  "language_info": {
   "codemirror_mode": {
    "name": "ipython",
    "version": 3
   },
   "file_extension": ".py",
   "mimetype": "text/x-python",
   "name": "python",
   "nbconvert_exporter": "python",
   "pygments_lexer": "ipython3",
   "version": "3.9.12"
  }
 },
 "nbformat": 4,
 "nbformat_minor": 5
}
