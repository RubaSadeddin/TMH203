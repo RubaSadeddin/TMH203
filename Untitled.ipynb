{
 "cells": [
  {
   "cell_type": "markdown",
   "id": "f3958744",
   "metadata": {},
   "source": [
    "# HIIIIIIIIIIIIIIIIIIIIIIIIIIIIIIIIIIIIIIIIIIIIIIIIIIIIIIIIIIIIIIIIIiiii "
   ]
  },
  {
   "cell_type": "code",
   "execution_count": 1,
   "id": "819914b4",
   "metadata": {},
   "outputs": [
    {
     "name": "stdout",
     "output_type": "stream",
     "text": [
      "hi , can you enter your name plz: rubi\n",
      "hi  rubi thank you for your waiting\n"
     ]
    }
   ],
   "source": [
    "r = input ('hi , can you enter your name plz: ')\n",
    "print ('hi ', r ,'thank you for your waiting')"
   ]
  },
  {
   "cell_type": "markdown",
   "id": "53691e00",
   "metadata": {},
   "source": [
    "* yenidan basliyalim \n",
    "# 2.4.2 basit uygulamalar "
   ]
  },
  {
   "cell_type": "markdown",
   "id": "4f85898d",
   "metadata": {},
   "source": [
    "* ortalama bulma"
   ]
  },
  {
   "cell_type": "code",
   "execution_count": 4,
   "id": "d9d63cdf",
   "metadata": {},
   "outputs": [
    {
     "name": "stdout",
     "output_type": "stream",
     "text": [
      "vize puani giriniz :50\n",
      "final puani giriniz: 80\n",
      "sizin ortalama puaniniz : 68.0\n"
     ]
    }
   ],
   "source": [
    "vize = int(input ('vize puani giriniz :'))\n",
    "final = int(input ('final puani giriniz: '))\n",
    "ortalama = vize * 0.4+final *0.6\n",
    "print ('sizin ortalama puaniniz :',ortalama)"
   ]
  },
  {
   "cell_type": "code",
   "execution_count": 2,
   "id": "af1883cd",
   "metadata": {},
   "outputs": [
    {
     "name": "stdout",
     "output_type": "stream",
     "text": [
      "a harfi:2\n",
      "b harfi:3\n",
      " b a dan buyuk\n"
     ]
    }
   ],
   "source": [
    "a = int (input('a harfi:'))\n",
    "b = int(input('b harfi:'))\n",
    "if a > b :\n",
    "    print('a b den buyuk')\n",
    "elif b>a :\n",
    "    print(' b a dan buyuk')\n",
    "else :\n",
    "    print('sayilar esit')"
   ]
  },
  {
   "cell_type": "markdown",
   "id": "219156b6",
   "metadata": {},
   "source": [
    "##  aritmatik operatorlar\n",
    "* '+' toplama\n",
    "* '-' cikarma\n",
    "* '*' carpma\n",
    "* '/' bolme\n",
    "* '**' kuvvet\n",
    "* ' % ' mod\n",
    "* '//' taban bolme "
   ]
  },
  {
   "cell_type": "markdown",
   "id": "76329905",
   "metadata": {},
   "source": [
    " # bool\n",
    " ## 0 and 1"
   ]
  },
  {
   "cell_type": "markdown",
   "id": "ef021cf4",
   "metadata": {},
   "source": [
    "* or \n",
    "* and\n",
    "* not    "
   ]
  },
  {
   "cell_type": "code",
   "execution_count": 4,
   "id": "c49c005d",
   "metadata": {},
   "outputs": [
    {
     "name": "stdout",
     "output_type": "stream",
     "text": [
      "kullanci adinizi giriniz: ruba\n",
      "sifrenizi giriniz:2002\n",
      "tsk ruba girebilirsiniz\n"
     ]
    }
   ],
   "source": [
    "kullanciAdi = input ('kullanci adinizi giriniz: ')\n",
    "sifre = input('sifrenizi giriniz:')\n",
    "if not kullanciAdi or not sifre :\n",
    "    print('lutfen kullanci adi / sifreyi bos birakmayin ')\n",
    "elif kullanciAdi == 'ruba' and sifre == '2002':\n",
    "    print('tsk',kullanciAdi,'girebilirsiniz')\n",
    "else :\n",
    "    print (' kullanci adi yada sifreyi yanlis girildinz , tekrar dene')"
   ]
  },
  {
   "cell_type": "code",
   "execution_count": 11,
   "id": "842aae81",
   "metadata": {
    "scrolled": true
   },
   "outputs": [
    {
     "name": "stdout",
     "output_type": "stream",
     "text": [
      "True\n",
      "False\n",
      "True\n"
     ]
    }
   ],
   "source": [
    "name = 'ruba'\n",
    "print('u' in name)\n",
    "print('s' in name)\n",
    "print('r' in name)"
   ]
  },
  {
   "cell_type": "code",
   "execution_count": 12,
   "id": "60d0a093",
   "metadata": {},
   "outputs": [
    {
     "name": "stdout",
     "output_type": "stream",
     "text": [
      "50\n",
      "9\n",
      "90\n",
      "kaldiniz\n"
     ]
    }
   ],
   "source": [
    "vize = int(input())\n",
    "final = int(input ())\n",
    "odev = int(input())\n",
    "sunuc = vize * 30/100 + final * 50/100 + odev * 20/100\n",
    "if final < 50 :\n",
    "    print('kaldiniz')\n",
    "elif sunuc < 50 :\n",
    "    print('gecmediniz')\n",
    "else :\n",
    "    print('gectiniz')"
   ]
  },
  {
   "cell_type": "markdown",
   "id": "a5ff184d",
   "metadata": {},
   "source": [
    "### ALAN VE ÇEVRE :\n",
    "* Alan ve çevre hesaplama kuralları: iki boyutlu geometrik şekillerin çevresi ve alanı ,aşağıdaki en önemli yasalar kullanarak bulunabilir :"
   ]
  },
  {
   "cell_type": "code",
   "execution_count": 28,
   "id": "31f22005",
   "metadata": {},
   "outputs": [
    {
     "name": "stdout",
     "output_type": "stream",
     "text": [
      "Bir şekil seçiniz. Üçgen içın 1, Kare ıçin 2 ,Dikdörtgen için 3 : 3\n",
      "Birinci kenarı giriniz: 6\n",
      "ikinci kenarı giriniz: 6\n",
      "Çevre:  24\n",
      "Alan:  36\n"
     ]
    }
   ],
   "source": [
    "sekil =input('Bir şekil seçiniz. Üçgen içın 1, Kare ıçin 2 ,Dikdörtgen için 3 : ')\n",
    "if sekil == '1' :\n",
    "    a = int(input('Birinci kenarı giriniz: '))\n",
    "    b = int(input('ikinci kenarı giriniz: '))\n",
    "    c = int(input('Üçüncü kenarı giriniz: '))\n",
    "    if  (a+b)/2 < c and c < a+b/2 :\n",
    "                print('3. kenar hata girildiniz.\\n')\n",
    "                cevre = a + b + c\n",
    "                u = cevre / 2\n",
    "                alan = u*(u-a) * (u-b) * (u-c)\n",
    "                alan = (alan)**1/2\n",
    "                print('Çevre:', cevre)\n",
    "                print('Alan: ', alan)\n",
    "elif sekil == '2' :\n",
    "    a = int(input('kare kenarları giriniz: '))\n",
    "    cevre = a*4\n",
    "    alan = a**2\n",
    "    print('Çevre: ', cevre)\n",
    "    print('Alan:', alan)\n",
    "elif sekil == '3' :\n",
    "        a = int(input('Birinci kenarı giriniz: '))\n",
    "        b = int(input('ikinci kenarı giriniz: '))\n",
    "        alan = a*b\n",
    "        cevre = (a+b)*2\n",
    "        print('Çevre: ', cevre)\n",
    "        print('Alan: ', alan)\n",
    "else:\n",
    "    print('Bir seçim yapmadiniz')"
   ]
  },
  {
   "attachments": {},
   "cell_type": "markdown",
   "id": "dd8c7111",
   "metadata": {},
   "source": [
    "# 2.soru :\n",
    "## Boyle Yasası (Boyle's law)\n",
    "* Boyle yasası (Boyle-Mariotte yasası) gaz yasalarından biridir. \n",
    "* Boyle yasasına göre, sıcaklıklar sabit tutulduğu sürece, ideal gazın hacmiyle basıncının çarpımı sabittir. \n",
    "* Matematiksel bir anlatımla: PV = k\n",
    "* P: basıç (paskal), V: hacim (m3), k: gaz sabiti; 8.3145 J/(mol K).\n",
    "* Belirli ölçüdeki herhangi bir gazın, sıcaklığın sabit tutulma şartıyla ilk ve son hacim-basınç ilişkisi aşağıdaki gibidir: \n",
    "* P1 V1 = P2 V2  ve   P2 = P1 V1 / V2"
   ]
  },
  {
   "cell_type": "code",
   "execution_count": 32,
   "id": "32237596",
   "metadata": {},
   "outputs": [
    {
     "name": "stdout",
     "output_type": "stream",
     "text": [
      "Bole yasısı için\n",
      "P1 : ilk basıç . \n",
      "P2 : son basıç\n",
      "V1 : ilk hacim\n",
      "V2 : son hacim\n",
      " P2 hesaplamak icin \n",
      " P1 giriniz :1\n",
      " V2 giriniz :1\n",
      " V1 giriniz :1\n",
      "P2 =  1.0\n"
     ]
    }
   ],
   "source": [
    "print ('''Bole yasısı için\n",
    "P1 : ilk basıç . \n",
    "P2 : son basıç\n",
    "V1 : ilk hacim\n",
    "V2 : son hacim''')\n",
    "print (' P2 hesaplamak icin ')\n",
    "P1=int(input(' P1 giriniz :'))\n",
    "V2=int(input(' V2 giriniz :'))\n",
    "V1=int(input(' V1 giriniz :'))\n",
    "P2 = (P1 * V1)/V2\n",
    "print('P2 = ',P2)"
   ]
  },
  {
   "cell_type": "markdown",
   "id": "a557c589",
   "metadata": {},
   "source": [
    "# 3.soru:\n",
    "## İkinci dereceden denklemler\n",
    "* İkinci dereceden denklemler, derecesi 2 olan polinomların oluşturduğu denklemlerdir.\n",
    "* mimaride kemer yapımında, uzaya gönderilen bazı araçların yörüngelerinin hesaplanmasında, uzaydaki bazı cisimlerin hareketlerinde, (örnek olarak kuyruklu yıldızlar) cam ve mercek yapımında kullanılır.\n",
    "* Bu denklemlerin genel formu : ((a)*(x**2))+(b*x)+c=0"
   ]
  },
  {
   "cell_type": "code",
   "execution_count": 43,
   "id": "12f411c8",
   "metadata": {},
   "outputs": [
    {
     "name": "stdout",
     "output_type": "stream",
     "text": [
      "ikinciDerecedenDenklem ( a,b,c )\n",
      "a giriniz : 1\n",
      "b giriniz : 6\n",
      "c giriniz: -8\n",
      "x1= 6.0 ,x2=  -12.0 kokler farkli . \n"
     ]
    }
   ],
   "source": [
    "print('ikinciDerecedenDenklem ( a,b,c )')\n",
    "a = int(input('a giriniz : '))\n",
    "b = int(input('b giriniz : '))\n",
    "c = int(input('c giriniz: '))\n",
    "delta = b^2 - 4*a*c \n",
    "f = (b^2 - 4*a*c)**1/2\n",
    "k = 2*a\n",
    "x1 = (-b + f )/ k \n",
    "x2 = (-b - f)/ k  \n",
    "if delta == 0 : \n",
    "    x1=x2\n",
    "    print ('x1 = '+str(x1)+', x2 = '+str(x2)+' kokler esittir . ')\n",
    "elif delta >0 : \n",
    "    print ('x1= '+str(x1)+' ,x2=  '+str(x2)+' kokler farkli . ')\n",
    "elif delta <0 : \n",
    "    print ('kok yoktur.')\n"
   ]
  },
  {
   "cell_type": "code",
   "execution_count": null,
   "id": "c3469b4d",
   "metadata": {},
   "outputs": [],
   "source": []
  }
 ],
 "metadata": {
  "kernelspec": {
   "display_name": "Python 3 (ipykernel)",
   "language": "python",
   "name": "python3"
  },
  "language_info": {
   "codemirror_mode": {
    "name": "ipython",
    "version": 3
   },
   "file_extension": ".py",
   "mimetype": "text/x-python",
   "name": "python",
   "nbconvert_exporter": "python",
   "pygments_lexer": "ipython3",
   "version": "3.9.12"
  }
 },
 "nbformat": 4,
 "nbformat_minor": 5
}
