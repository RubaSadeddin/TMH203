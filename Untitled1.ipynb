{
 "cells": [
  {
   "cell_type": "markdown",
   "id": "ca1e9525",
   "metadata": {},
   "source": [
    "# bir sey anlamadim\n",
    "* hep kabaniyor"
   ]
  },
  {
   "cell_type": "code",
   "execution_count": 1,
   "id": "994e020b",
   "metadata": {},
   "outputs": [
    {
     "name": "stdout",
     "output_type": "stream",
     "text": [
      "RUBA , KEEP DOING\n"
     ]
    }
   ],
   "source": [
    "print('RUBA , KEEP DOING')"
   ]
  },
  {
   "cell_type": "code",
   "execution_count": 2,
   "id": "4e375888",
   "metadata": {},
   "outputs": [
    {
     "data": {
      "text/plain": [
       "'ruba , allah yesabrik'"
      ]
     },
     "execution_count": 2,
     "metadata": {},
     "output_type": "execute_result"
    }
   ],
   "source": [
    "'ruba , allah yesabrik'"
   ]
  },
  {
   "cell_type": "code",
   "execution_count": 6,
   "id": "c78dd598",
   "metadata": {},
   "outputs": [
    {
     "name": "stdout",
     "output_type": "stream",
     "text": [
      "birinc sayiyi giriniz :3\n",
      "ikinci sayiyi giriniz :4\n",
      "birinci sayi + ikinci sayi 3\n",
      "FALSE!\n"
     ]
    }
   ],
   "source": [
    "birinci_sayi = int(input ('birinc sayiyi giriniz :'))\n",
    "IkinciSayi= int(input('ikinci sayiyi giriniz :'))\n",
    "sunuc= int(input('birinci sayi + ikinci sayi '))\n",
    "sunuc1= birinci_sayi + IkinciSayi\n",
    "if sunuc == sunuc1 :\n",
    "    print ('you are right ')\n",
    "elif sunuc != sunuc1 :\n",
    "    print('FALSE!')\n",
    "    "
   ]
  },
  {
   "cell_type": "markdown",
   "id": "9bb43096",
   "metadata": {},
   "source": [
    "## what \n",
    "### is \n",
    "# the \n",
    "## diffrent \n",
    "# between \n",
    "### onlar "
   ]
  },
  {
   "cell_type": "code",
   "execution_count": 25,
   "id": "d6d95630",
   "metadata": {},
   "outputs": [
    {
     "name": "stdout",
     "output_type": "stream",
     "text": [
      "rubi\n"
     ]
    }
   ],
   "source": [
    "print('rubi')"
   ]
  },
  {
   "cell_type": "code",
   "execution_count": 26,
   "id": "2188510a",
   "metadata": {},
   "outputs": [
    {
     "data": {
      "text/plain": [
       "'Ruba'"
      ]
     },
     "execution_count": 26,
     "metadata": {},
     "output_type": "execute_result"
    }
   ],
   "source": [
    "'Ruba'"
   ]
  },
  {
   "cell_type": "markdown",
   "id": "45c9ea49",
   "metadata": {},
   "source": [
    "# 3. hafta"
   ]
  },
  {
   "cell_type": "markdown",
   "id": "2123922c",
   "metadata": {},
   "source": [
    "## karsilastirma operatorleri ve kosullar \n",
    "|operator | anlami|\n",
    "|---------|-------|\n",
    "|<|kucutor|"
   ]
  },
  {
   "cell_type": "markdown",
   "id": "6fa0d825",
   "metadata": {},
   "source": [
    "* if \n",
    "* elif \n",
    "* else"
   ]
  },
  {
   "cell_type": "code",
   "execution_count": 28,
   "id": "131b289d",
   "metadata": {},
   "outputs": [
    {
     "name": "stdout",
     "output_type": "stream",
     "text": [
      "bir sayi giriniz : 4\n",
      "sayi positive\n"
     ]
    }
   ],
   "source": [
    "sayi = int(input('bir sayi giriniz : '))\n",
    "if sayi > 0:\n",
    "    print('sayi pozitive')\n",
    "elif sayi <0 :\n",
    "    print('sayi nigative')\n",
    "else :   \n",
    "    print('sayi = 0')\n"
   ]
  },
  {
   "cell_type": "code",
   "execution_count": null,
   "id": "c757a3b8",
   "metadata": {},
   "outputs": [],
   "source": [
    "a = int(input('birinici kenar:' ))\n",
    "b = int(input('ikinci kenar: '))\n",
    "c = ((a**2+b**2)**1/2)\n",
    "print('c kenari = '+str(c))"
   ]
  },
  {
   "cell_type": "code",
   "execution_count": null,
   "id": "52b5f9e6",
   "metadata": {},
   "outputs": [],
   "source": [
    "vize = int(input())\n",
    "final = int(input ())\n",
    "odev = int(input())\n",
    "sunuc = vize * 30/100 + final * 50/100 + odev * 20/100\n",
    "if final < 50 :\n",
    "    print('kaldiniz')\n",
    "elif sunuc < 50 :\n",
    "    print('gecmediniz')\n",
    "else :\n",
    "    print('gectiniz')"
   ]
  },
  {
   "cell_type": "code",
   "execution_count": null,
   "id": "cc20811b",
   "metadata": {},
   "outputs": [],
   "source": [
    "a = int (input())\n",
    "b = int(input())\n",
    "if a > b :\n",
    "    print('a b den buyuk')\n",
    "elif b>a :\n",
    "    print(' b a dan buyuk')\n",
    "else :\n",
    "    print('sayilar esit')"
   ]
  },
  {
   "cell_type": "code",
   "execution_count": null,
   "id": "ac5b0aba",
   "metadata": {},
   "outputs": [],
   "source": []
  }
 ],
 "metadata": {
  "kernelspec": {
   "display_name": "Python 3 (ipykernel)",
   "language": "python",
   "name": "python3"
  },
  "language_info": {
   "codemirror_mode": {
    "name": "ipython",
    "version": 3
   },
   "file_extension": ".py",
   "mimetype": "text/x-python",
   "name": "python",
   "nbconvert_exporter": "python",
   "pygments_lexer": "ipython3",
   "version": "3.9.12"
  }
 },
 "nbformat": 4,
 "nbformat_minor": 5
}
